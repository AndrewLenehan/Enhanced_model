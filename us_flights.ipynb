{
  "nbformat": 4,
  "nbformat_minor": 0,
  "metadata": {
    "colab": {
      "provenance": [],
      "collapsed_sections": [
        "aLvgDA0valjP"
      ],
      "include_colab_link": true
    },
    "kernelspec": {
      "name": "python3",
      "display_name": "Python 3"
    },
    "language_info": {
      "name": "python"
    }
  },
  "cells": [
    {
      "cell_type": "markdown",
      "metadata": {
        "id": "view-in-github",
        "colab_type": "text"
      },
      "source": [
        "<a href=\"https://colab.research.google.com/github/AndrewLenehan/Enhanced_model/blob/main/us_flights.ipynb\" target=\"_parent\"><img src=\"https://colab.research.google.com/assets/colab-badge.svg\" alt=\"Open In Colab\"/></a>"
      ]
    },
    {
      "cell_type": "markdown",
      "source": [
        "# BDSS FLIGHTS TABLEAU"
      ],
      "metadata": {
        "id": "-2D7yX5I9ov5"
      }
    },
    {
      "cell_type": "markdown",
      "source": [
        "### Data Description"
      ],
      "metadata": {
        "id": "aLvgDA0valjP"
      }
    },
    {
      "cell_type": "markdown",
      "source": [
        "\n",
        "*    Field : Description\n",
        "*    FlightDate : The date of the flight. (example: 09/09/2024 )\n",
        "*    Day_Of_Week : The day of the week when the flight occurred. (example: Monday )\n",
        "*    Airline : The name or code of the airline operating the flight. (example: AA for American Airlines )\n",
        "*    Tail_Number : The unique identifier (registration number) of the aircraft. (example: N123AA )\n",
        "*    Dep_Airport : The IATA code of the departure airport. (example: JFK )\n",
        "*    Dep_CityName : The name of the city where the departure airport is located. (example: New York )\n",
        "*    DepTime_label : The categorized or labeled departure time. (example: Morning )\n",
        "*    Dep_Delay : The number of minutes the flight was delayed at departure. (example: 15 )\n",
        "*    Dep_Delay_Tag : Categorical representation of the departure delay. (example: On-time )\n",
        "*    Dep_Delay_Type : The type or reason for the departure delay. (example: Operational )\n",
        "*    Arr_Airport : The IATA code of the arrival airport. (example: LAX )\n",
        "*    Arr_CityName : The name of the city where the arrival airport is located. (example: Los Angeles )\n",
        "*    Arr_Delay : The number of minutes the flight was delayed at arrival. (example: 10 )\n",
        "*    Arr_Delay_Type : The type or reason for the arrival delay. (example: Weather )\n",
        "*    Flight_Duration : The duration of the flight. (example: 300 minutes )\n",
        "*    Distance_type : The classification of flight distance. (example: Long-haul )\n",
        "*    Delay_Carrier : The number of minutes the delay is attributed to the airline/carrier. (example: 5 )\n",
        "*    Delay_Weather : The number of minutes the delay is attributed to weather conditions. (example: 10 )\n",
        "*    Delay_NAS : The number of minutes the delay is attributed to National Airspace System issues. (example: 0 )\n",
        "*    Delay_Security : The number of minutes the delay is attributed to security-related issues. (example: 0 )\n",
        "*    Delay_LastAircraft : The number of minutes the delay is attributed to delays in the aircraft's previous flight. (example: 20 )\n",
        "*    Manufacturer : The company that manufactured the aircraft. (example: Boeing )\n",
        "*    Model : The model of the aircraft. (example: Boeing 737 )\n",
        "*    Aircraft_age : The age of the aircraft in years. (example: 12 years )\n",
        "*    time : The specific time or timestamp associated with the flight record. (example: 12:30 PM )\n",
        "*    tavg : The average temperature on the day of the flight. (example: 22°C )\n",
        "*    tmin : The minimum temperature on the day of the flight. (example: 18°C )\n",
        "*    tmax : The maximum temperature on the day of the flight. (example: 28°C )\n",
        "*    prcp : The amount of precipitation on the day of the flight. (example: 2 mm )\n",
        "*    snow : The amount of snowfall on the day of the flight. (example: 0 mm )\n",
        "*    wdir : The wind direction. (example: 270° )\n",
        "*    wspd : The wind speed. (example: 15 km/h )\n",
        "*    pres : The atmospheric pressure. (example: 1015 hPa )\n",
        "*    airport_id : A unique identifier for the airport. (example: 12345 )\n",
        "*    IATA_CODE : The International Air Transport Association code for the airport. (example: JFK )\n",
        "*    AIRPORT : The name of the airport. (example: John F. Kennedy International Airport )\n",
        "*    CITY : The city where the airport is located. (example: New York )\n",
        "*    STATE : The state or region where the airport is located. (example: NY )\n",
        "*    COUNTRY : The country where the airport is located. (example: USA )\n",
        "*    LATITUDE : The latitude coordinate of the airport. (example: 40.6413° N )\n",
        "*    LONGITUDE : The longitude coordinate of the airport. (example: 73.7781° W )"
      ],
      "metadata": {
        "id": "l2KVzFzIcwhD"
      }
    },
    {
      "cell_type": "markdown",
      "source": [
        "### Load & Explore Data"
      ],
      "metadata": {
        "id": "-laVmczLc70s"
      }
    },
    {
      "cell_type": "code",
      "source": [
        "# Install Kaggle library\n",
        "!pip install kaggle\n",
        "\n",
        "# Upload your kaggle.json API token\n",
        "from google.colab import files\n",
        "files.upload()  # select and upload kaggle.json file here\n",
        "\n",
        "# Move kaggle.json to correct directory\n",
        "!mkdir -p ~/.kaggle\n",
        "!cp kaggle.json ~/.kaggle/\n",
        "!chmod 600 ~/.kaggle/kaggle.json"
      ],
      "metadata": {
        "colab": {
          "base_uri": "https://localhost:8080/",
          "height": 304
        },
        "id": "_HsT_Kddc6j-",
        "outputId": "c87b4347-6f8d-46f5-de92-f1923ad3c5d4"
      },
      "execution_count": 2,
      "outputs": [
        {
          "output_type": "stream",
          "name": "stdout",
          "text": [
            "Requirement already satisfied: kaggle in /usr/local/lib/python3.11/dist-packages (1.6.17)\n",
            "Requirement already satisfied: six>=1.10 in /usr/local/lib/python3.11/dist-packages (from kaggle) (1.17.0)\n",
            "Requirement already satisfied: certifi>=2023.7.22 in /usr/local/lib/python3.11/dist-packages (from kaggle) (2025.1.31)\n",
            "Requirement already satisfied: python-dateutil in /usr/local/lib/python3.11/dist-packages (from kaggle) (2.8.2)\n",
            "Requirement already satisfied: requests in /usr/local/lib/python3.11/dist-packages (from kaggle) (2.32.3)\n",
            "Requirement already satisfied: tqdm in /usr/local/lib/python3.11/dist-packages (from kaggle) (4.67.1)\n",
            "Requirement already satisfied: python-slugify in /usr/local/lib/python3.11/dist-packages (from kaggle) (8.0.4)\n",
            "Requirement already satisfied: urllib3 in /usr/local/lib/python3.11/dist-packages (from kaggle) (2.3.0)\n",
            "Requirement already satisfied: bleach in /usr/local/lib/python3.11/dist-packages (from kaggle) (6.2.0)\n",
            "Requirement already satisfied: webencodings in /usr/local/lib/python3.11/dist-packages (from bleach->kaggle) (0.5.1)\n",
            "Requirement already satisfied: text-unidecode>=1.3 in /usr/local/lib/python3.11/dist-packages (from python-slugify->kaggle) (1.3)\n",
            "Requirement already satisfied: charset-normalizer<4,>=2 in /usr/local/lib/python3.11/dist-packages (from requests->kaggle) (3.4.1)\n",
            "Requirement already satisfied: idna<4,>=2.5 in /usr/local/lib/python3.11/dist-packages (from requests->kaggle) (3.10)\n"
          ]
        },
        {
          "output_type": "display_data",
          "data": {
            "text/plain": [
              "<IPython.core.display.HTML object>"
            ],
            "text/html": [
              "\n",
              "     <input type=\"file\" id=\"files-b80a22be-ebbb-4c66-bfe5-67fc52c2c59d\" name=\"files[]\" multiple disabled\n",
              "        style=\"border:none\" />\n",
              "     <output id=\"result-b80a22be-ebbb-4c66-bfe5-67fc52c2c59d\">\n",
              "      Upload widget is only available when the cell has been executed in the\n",
              "      current browser session. Please rerun this cell to enable.\n",
              "      </output>\n",
              "      <script>// Copyright 2017 Google LLC\n",
              "//\n",
              "// Licensed under the Apache License, Version 2.0 (the \"License\");\n",
              "// you may not use this file except in compliance with the License.\n",
              "// You may obtain a copy of the License at\n",
              "//\n",
              "//      http://www.apache.org/licenses/LICENSE-2.0\n",
              "//\n",
              "// Unless required by applicable law or agreed to in writing, software\n",
              "// distributed under the License is distributed on an \"AS IS\" BASIS,\n",
              "// WITHOUT WARRANTIES OR CONDITIONS OF ANY KIND, either express or implied.\n",
              "// See the License for the specific language governing permissions and\n",
              "// limitations under the License.\n",
              "\n",
              "/**\n",
              " * @fileoverview Helpers for google.colab Python module.\n",
              " */\n",
              "(function(scope) {\n",
              "function span(text, styleAttributes = {}) {\n",
              "  const element = document.createElement('span');\n",
              "  element.textContent = text;\n",
              "  for (const key of Object.keys(styleAttributes)) {\n",
              "    element.style[key] = styleAttributes[key];\n",
              "  }\n",
              "  return element;\n",
              "}\n",
              "\n",
              "// Max number of bytes which will be uploaded at a time.\n",
              "const MAX_PAYLOAD_SIZE = 100 * 1024;\n",
              "\n",
              "function _uploadFiles(inputId, outputId) {\n",
              "  const steps = uploadFilesStep(inputId, outputId);\n",
              "  const outputElement = document.getElementById(outputId);\n",
              "  // Cache steps on the outputElement to make it available for the next call\n",
              "  // to uploadFilesContinue from Python.\n",
              "  outputElement.steps = steps;\n",
              "\n",
              "  return _uploadFilesContinue(outputId);\n",
              "}\n",
              "\n",
              "// This is roughly an async generator (not supported in the browser yet),\n",
              "// where there are multiple asynchronous steps and the Python side is going\n",
              "// to poll for completion of each step.\n",
              "// This uses a Promise to block the python side on completion of each step,\n",
              "// then passes the result of the previous step as the input to the next step.\n",
              "function _uploadFilesContinue(outputId) {\n",
              "  const outputElement = document.getElementById(outputId);\n",
              "  const steps = outputElement.steps;\n",
              "\n",
              "  const next = steps.next(outputElement.lastPromiseValue);\n",
              "  return Promise.resolve(next.value.promise).then((value) => {\n",
              "    // Cache the last promise value to make it available to the next\n",
              "    // step of the generator.\n",
              "    outputElement.lastPromiseValue = value;\n",
              "    return next.value.response;\n",
              "  });\n",
              "}\n",
              "\n",
              "/**\n",
              " * Generator function which is called between each async step of the upload\n",
              " * process.\n",
              " * @param {string} inputId Element ID of the input file picker element.\n",
              " * @param {string} outputId Element ID of the output display.\n",
              " * @return {!Iterable<!Object>} Iterable of next steps.\n",
              " */\n",
              "function* uploadFilesStep(inputId, outputId) {\n",
              "  const inputElement = document.getElementById(inputId);\n",
              "  inputElement.disabled = false;\n",
              "\n",
              "  const outputElement = document.getElementById(outputId);\n",
              "  outputElement.innerHTML = '';\n",
              "\n",
              "  const pickedPromise = new Promise((resolve) => {\n",
              "    inputElement.addEventListener('change', (e) => {\n",
              "      resolve(e.target.files);\n",
              "    });\n",
              "  });\n",
              "\n",
              "  const cancel = document.createElement('button');\n",
              "  inputElement.parentElement.appendChild(cancel);\n",
              "  cancel.textContent = 'Cancel upload';\n",
              "  const cancelPromise = new Promise((resolve) => {\n",
              "    cancel.onclick = () => {\n",
              "      resolve(null);\n",
              "    };\n",
              "  });\n",
              "\n",
              "  // Wait for the user to pick the files.\n",
              "  const files = yield {\n",
              "    promise: Promise.race([pickedPromise, cancelPromise]),\n",
              "    response: {\n",
              "      action: 'starting',\n",
              "    }\n",
              "  };\n",
              "\n",
              "  cancel.remove();\n",
              "\n",
              "  // Disable the input element since further picks are not allowed.\n",
              "  inputElement.disabled = true;\n",
              "\n",
              "  if (!files) {\n",
              "    return {\n",
              "      response: {\n",
              "        action: 'complete',\n",
              "      }\n",
              "    };\n",
              "  }\n",
              "\n",
              "  for (const file of files) {\n",
              "    const li = document.createElement('li');\n",
              "    li.append(span(file.name, {fontWeight: 'bold'}));\n",
              "    li.append(span(\n",
              "        `(${file.type || 'n/a'}) - ${file.size} bytes, ` +\n",
              "        `last modified: ${\n",
              "            file.lastModifiedDate ? file.lastModifiedDate.toLocaleDateString() :\n",
              "                                    'n/a'} - `));\n",
              "    const percent = span('0% done');\n",
              "    li.appendChild(percent);\n",
              "\n",
              "    outputElement.appendChild(li);\n",
              "\n",
              "    const fileDataPromise = new Promise((resolve) => {\n",
              "      const reader = new FileReader();\n",
              "      reader.onload = (e) => {\n",
              "        resolve(e.target.result);\n",
              "      };\n",
              "      reader.readAsArrayBuffer(file);\n",
              "    });\n",
              "    // Wait for the data to be ready.\n",
              "    let fileData = yield {\n",
              "      promise: fileDataPromise,\n",
              "      response: {\n",
              "        action: 'continue',\n",
              "      }\n",
              "    };\n",
              "\n",
              "    // Use a chunked sending to avoid message size limits. See b/62115660.\n",
              "    let position = 0;\n",
              "    do {\n",
              "      const length = Math.min(fileData.byteLength - position, MAX_PAYLOAD_SIZE);\n",
              "      const chunk = new Uint8Array(fileData, position, length);\n",
              "      position += length;\n",
              "\n",
              "      const base64 = btoa(String.fromCharCode.apply(null, chunk));\n",
              "      yield {\n",
              "        response: {\n",
              "          action: 'append',\n",
              "          file: file.name,\n",
              "          data: base64,\n",
              "        },\n",
              "      };\n",
              "\n",
              "      let percentDone = fileData.byteLength === 0 ?\n",
              "          100 :\n",
              "          Math.round((position / fileData.byteLength) * 100);\n",
              "      percent.textContent = `${percentDone}% done`;\n",
              "\n",
              "    } while (position < fileData.byteLength);\n",
              "  }\n",
              "\n",
              "  // All done.\n",
              "  yield {\n",
              "    response: {\n",
              "      action: 'complete',\n",
              "    }\n",
              "  };\n",
              "}\n",
              "\n",
              "scope.google = scope.google || {};\n",
              "scope.google.colab = scope.google.colab || {};\n",
              "scope.google.colab._files = {\n",
              "  _uploadFiles,\n",
              "  _uploadFilesContinue,\n",
              "};\n",
              "})(self);\n",
              "</script> "
            ]
          },
          "metadata": {}
        },
        {
          "output_type": "stream",
          "name": "stdout",
          "text": [
            "cp: cannot stat 'kaggle.json': No such file or directory\n",
            "chmod: cannot access '/root/.kaggle/kaggle.json': No such file or directory\n"
          ]
        }
      ]
    },
    {
      "cell_type": "code",
      "source": [
        "# Download dataset using Kaggle API\n",
        "!kaggle datasets download bordanova/2023-us-civil-flights-delay-meteo-and-aircraft\n",
        "\n",
        "# Unzip the downloaded file\n",
        "!unzip 2023-us-civil-flights-delay-meteo-and-aircraft.zip -d flights_data"
      ],
      "metadata": {
        "colab": {
          "base_uri": "https://localhost:8080/"
        },
        "id": "ex4rTTQ_eZQp",
        "outputId": "d4e6d3c7-af07-42ac-ac77-9c4121fea5d4"
      },
      "execution_count": 3,
      "outputs": [
        {
          "output_type": "stream",
          "name": "stdout",
          "text": [
            "Warning: Looks like you're using an outdated API Version, please consider updating (server 1.7.4.2 / client 1.6.17)\n",
            "Dataset URL: https://www.kaggle.com/datasets/bordanova/2023-us-civil-flights-delay-meteo-and-aircraft\n",
            "License(s): CC0-1.0\n",
            "Downloading 2023-us-civil-flights-delay-meteo-and-aircraft.zip to /content\n",
            " 95% 120M/127M [00:01<00:00, 44.6MB/s]\n",
            "100% 127M/127M [00:02<00:00, 64.3MB/s]\n",
            "Archive:  2023-us-civil-flights-delay-meteo-and-aircraft.zip\n",
            "  inflating: flights_data/Cancelled_Diverted_2023.csv  \n",
            "  inflating: flights_data/US_flights_2023.csv  \n",
            "  inflating: flights_data/airports_geolocation.csv  \n",
            "  inflating: flights_data/maj us flight - january 2024.csv  \n",
            "  inflating: flights_data/weather_meteo_by_airport.csv  \n"
          ]
        }
      ]
    },
    {
      "cell_type": "code",
      "source": [
        "import pandas as pd\n",
        "\n",
        "# Load CSV files into Pandas dataframes\n",
        "flights_df = pd.read_csv(\"flights_data/US_flights_2023.csv\")\n",
        "weather_df = pd.read_csv('flights_data/weather_meteo_by_airport.csv')\n",
        "location_df = pd.read_csv(\"flights_data/airports_geolocation.csv\")\n",
        "cancelled_diverted_df = pd.read_csv(\"flights_data/Cancelled_Diverted_2023.csv\")\n",
        "maj_us_flight_jan2024_df = pd.read_csv(\"flights_data/maj us flight - january 2024.csv\")\n",
        "\n",
        "# Quick data check\n",
        "print(\"- flight_data:\")\n",
        "print(flights_df.head())\n",
        "print(\"- weather:\")\n",
        "print(weather_df.head())\n",
        "print(\"- location:\")\n",
        "print(location_df.head())\n",
        "print(\"- cancelled_diverted:\")\n",
        "print(cancelled_diverted_df.head())\n",
        "print(\"- maj_us_flight_jan2024:\")\n",
        "print(maj_us_flight_jan2024_df.head())\n"
      ],
      "metadata": {
        "colab": {
          "base_uri": "https://localhost:8080/"
        },
        "collapsed": true,
        "id": "cdvw27mme1eF",
        "outputId": "2e69c6b1-341c-4517-c57a-518bcb2a4082"
      },
      "execution_count": 5,
      "outputs": [
        {
          "output_type": "stream",
          "name": "stdout",
          "text": [
            "- flight_data:\n",
            "   FlightDate  Day_Of_Week       Airline Tail_Number Dep_Airport  \\\n",
            "0  2023-01-02            1  Endeavor Air      N605LR         BDL   \n",
            "1  2023-01-03            2  Endeavor Air      N605LR         BDL   \n",
            "2  2023-01-04            3  Endeavor Air      N331PQ         BDL   \n",
            "3  2023-01-05            4  Endeavor Air      N906XJ         BDL   \n",
            "4  2023-01-06            5  Endeavor Air      N337PQ         BDL   \n",
            "\n",
            "   Dep_CityName DepTime_label  Dep_Delay  Dep_Delay_Tag Dep_Delay_Type  ...  \\\n",
            "0  Hartford, CT       Morning         -3              0      Low <5min  ...   \n",
            "1  Hartford, CT       Morning         -5              0      Low <5min  ...   \n",
            "2  Hartford, CT       Morning         -5              0      Low <5min  ...   \n",
            "3  Hartford, CT       Morning         -6              0      Low <5min  ...   \n",
            "4  Hartford, CT       Morning         -1              0      Low <5min  ...   \n",
            "\n",
            "  Flight_Duration       Distance_type  Delay_Carrier Delay_Weather  Delay_NAS  \\\n",
            "0              56  Short Haul >1500Mi              0             0          0   \n",
            "1              62  Short Haul >1500Mi              0             0          0   \n",
            "2              49  Short Haul >1500Mi              0             0          0   \n",
            "3              54  Short Haul >1500Mi              0             0          0   \n",
            "4              50  Short Haul >1500Mi              0             0          0   \n",
            "\n",
            "  Delay_Security  Delay_LastAircraft           Manufacturer  Model  \\\n",
            "0              0                   0  CANADAIR REGIONAL JET    CRJ   \n",
            "1              0                   0  CANADAIR REGIONAL JET    CRJ   \n",
            "2              0                   0  CANADAIR REGIONAL JET    CRJ   \n",
            "3              0                   0  CANADAIR REGIONAL JET    CRJ   \n",
            "4              0                   0  CANADAIR REGIONAL JET    CRJ   \n",
            "\n",
            "   Aicraft_age  \n",
            "0           16  \n",
            "1           16  \n",
            "2           10  \n",
            "3           17  \n",
            "4           10  \n",
            "\n",
            "[5 rows x 24 columns]\n",
            "- weather:\n",
            "         time  tavg  tmin  tmax  prcp  snow   wdir  wspd    pres airport_id\n",
            "0  2023-01-01   8.1   2.2  11.7   0.0   0.0  278.0   9.7  1013.8        ABE\n",
            "1  2023-01-02   5.4   0.0  11.7   0.0   0.0  353.0   3.6  1019.6        ABE\n",
            "2  2023-01-03   8.4   7.2   9.4  15.2   0.0   50.0   5.0  1013.9        ABE\n",
            "3  2023-01-04  11.1   6.7  17.2   0.0   0.0  302.0   4.7  1009.8        ABE\n",
            "4  2023-01-05  12.7   6.7  14.4   7.9   0.0  292.0   7.2  1013.0        ABE\n",
            "- location:\n",
            "  IATA_CODE                              AIRPORT         CITY STATE COUNTRY  \\\n",
            "0       ABE  Lehigh Valley International Airport    Allentown    PA     USA   \n",
            "1       ABI             Abilene Regional Airport      Abilene    TX     USA   \n",
            "2       ABQ    Albuquerque International Sunport  Albuquerque    NM     USA   \n",
            "3       ABR            Aberdeen Regional Airport     Aberdeen    SD     USA   \n",
            "4       ABY   Southwest Georgia Regional Airport       Albany    GA     USA   \n",
            "\n",
            "   LATITUDE  LONGITUDE  \n",
            "0  40.65236  -75.44040  \n",
            "1  32.41132  -99.68190  \n",
            "2  35.04022 -106.60919  \n",
            "3  45.44906  -98.42183  \n",
            "4  31.53552  -84.19447  \n",
            "- cancelled_diverted:\n",
            "   FlightDate  Day_Of_Week       Airline Tail_Number  Cancelled  Diverted  \\\n",
            "0  2023-01-25            3  Endeavor Air      N691CA        1.0       0.0   \n",
            "1  2023-01-03            2  Endeavor Air      N937XJ        1.0       0.0   \n",
            "2  2023-01-03            2  Endeavor Air      N937XJ        1.0       0.0   \n",
            "3  2023-01-11            3  Endeavor Air      N926XJ        1.0       0.0   \n",
            "4  2023-01-25            3  Endeavor Air      N335PQ        0.0       1.0   \n",
            "\n",
            "  Dep_Airport     Dep_CityName DepTime_label  Dep_Delay  ...  \\\n",
            "0         JFK     New York, NY       Evening        0.0  ...   \n",
            "1         MSP  Minneapolis, MN       Morning        0.0  ...   \n",
            "2         PIT   Pittsburgh, PA     Afternoon        0.0  ...   \n",
            "3         BWI    Baltimore, MD     Afternoon        0.0  ...   \n",
            "4         BWI    Baltimore, MD     Afternoon        2.0  ...   \n",
            "\n",
            "          Arr_CityName Arr_Delay    Arr_Delay_Type Flight_Duration  \\\n",
            "0  Ithaca/Cortland, NY       0.0  No Arrival Delay             0.0   \n",
            "1       Pittsburgh, PA       0.0  No Arrival Delay             0.0   \n",
            "2      Minneapolis, MN       0.0  No Arrival Delay             0.0   \n",
            "3         New York, NY       0.0  No Arrival Delay             0.0   \n",
            "4         New York, NY       0.0  No Arrival Delay             0.0   \n",
            "\n",
            "   Distance_type Delay_Carrier  Delay_Weather Delay_NAS  Delay_Security  \\\n",
            "0     Short Haul           0.0            0.0       0.0             0.0   \n",
            "1     Short Haul           0.0            0.0       0.0             0.0   \n",
            "2     Short Haul           0.0            0.0       0.0             0.0   \n",
            "3     Short Haul           0.0            0.0       0.0             0.0   \n",
            "4     Short Haul           0.0            0.0       0.0             0.0   \n",
            "\n",
            "   Delay_LastAircraft  \n",
            "0                 0.0  \n",
            "1                 0.0  \n",
            "2                 0.0  \n",
            "3                 0.0  \n",
            "4                 0.0  \n",
            "\n",
            "[5 rows x 23 columns]\n",
            "- maj_us_flight_jan2024:\n",
            "   FlightDate  Day_Of_Week       Airline Tail_Number Dep_Airport  \\\n",
            "0  2023-01-02            1  Endeavor Air      N605LR         BDL   \n",
            "1  2023-01-03            2  Endeavor Air      N605LR         BDL   \n",
            "2  2023-01-04            3  Endeavor Air      N331PQ         BDL   \n",
            "3  2023-01-05            4  Endeavor Air      N906XJ         BDL   \n",
            "4  2023-01-06            5  Endeavor Air      N337PQ         BDL   \n",
            "\n",
            "   Dep_CityName DepTime_label  Dep_Delay  Dep_Delay_Tag Dep_Delay_Type  ...  \\\n",
            "0  Hartford, CT       Morning         -3              0      Low <5min  ...   \n",
            "1  Hartford, CT       Morning         -5              0      Low <5min  ...   \n",
            "2  Hartford, CT       Morning         -5              0      Low <5min  ...   \n",
            "3  Hartford, CT       Morning         -6              0      Low <5min  ...   \n",
            "4  Hartford, CT       Morning         -1              0      Low <5min  ...   \n",
            "\n",
            "  Flight_Duration       Distance_type  Delay_Carrier Delay_Weather  Delay_NAS  \\\n",
            "0              56  Short Haul >1500Mi              0             0          0   \n",
            "1              62  Short Haul >1500Mi              0             0          0   \n",
            "2              49  Short Haul >1500Mi              0             0          0   \n",
            "3              54  Short Haul >1500Mi              0             0          0   \n",
            "4              50  Short Haul >1500Mi              0             0          0   \n",
            "\n",
            "  Delay_Security  Delay_LastAircraft           Manufacturer  Model  \\\n",
            "0              0                   0  CANADAIR REGIONAL JET    CRJ   \n",
            "1              0                   0  CANADAIR REGIONAL JET    CRJ   \n",
            "2              0                   0  CANADAIR REGIONAL JET    CRJ   \n",
            "3              0                   0  CANADAIR REGIONAL JET    CRJ   \n",
            "4              0                   0  CANADAIR REGIONAL JET    CRJ   \n",
            "\n",
            "   Aicraft_age  \n",
            "0           16  \n",
            "1           16  \n",
            "2           10  \n",
            "3           17  \n",
            "4           10  \n",
            "\n",
            "[5 rows x 24 columns]\n"
          ]
        }
      ]
    },
    {
      "cell_type": "code",
      "source": [
        "# Define the manufacturers you want to count\n",
        "manufacturers = ['Airbus', 'Boeing', 'Canadair']\n",
        "\n",
        "# Filter the dataset for the specified manufacturers\n",
        "filtered_df = df[df['manufacturer'].isin(manufacturers)]\n",
        "\n",
        "# Count the number of rows for each manufacturer\n",
        "manufacturer_counts = filtered_df['manufacturer'].value_counts()\n",
        "\n",
        "# Display the counts\n",
        "print(manufacturer_count)"
      ],
      "metadata": {
        "colab": {
          "base_uri": "https://localhost:8080/",
          "height": 211
        },
        "id": "sbhN8BgoPWXd",
        "outputId": "752c64cb-e0bf-410e-ad95-f014fe427213"
      },
      "execution_count": 10,
      "outputs": [
        {
          "output_type": "error",
          "ename": "NameError",
          "evalue": "name 'df' is not defined",
          "traceback": [
            "\u001b[0;31m---------------------------------------------------------------------------\u001b[0m",
            "\u001b[0;31mNameError\u001b[0m                                 Traceback (most recent call last)",
            "\u001b[0;32m<ipython-input-10-9cdf131e160e>\u001b[0m in \u001b[0;36m<cell line: 0>\u001b[0;34m()\u001b[0m\n\u001b[1;32m      3\u001b[0m \u001b[0;34m\u001b[0m\u001b[0m\n\u001b[1;32m      4\u001b[0m \u001b[0;31m# Filter the dataset for the specified manufacturers\u001b[0m\u001b[0;34m\u001b[0m\u001b[0;34m\u001b[0m\u001b[0m\n\u001b[0;32m----> 5\u001b[0;31m \u001b[0mfiltered_df\u001b[0m \u001b[0;34m=\u001b[0m \u001b[0mdf\u001b[0m\u001b[0;34m[\u001b[0m\u001b[0mdf\u001b[0m\u001b[0;34m[\u001b[0m\u001b[0;34m'manufacturer'\u001b[0m\u001b[0;34m]\u001b[0m\u001b[0;34m.\u001b[0m\u001b[0misin\u001b[0m\u001b[0;34m(\u001b[0m\u001b[0mmanufacturers\u001b[0m\u001b[0;34m)\u001b[0m\u001b[0;34m]\u001b[0m\u001b[0;34m\u001b[0m\u001b[0;34m\u001b[0m\u001b[0m\n\u001b[0m\u001b[1;32m      6\u001b[0m \u001b[0;34m\u001b[0m\u001b[0m\n\u001b[1;32m      7\u001b[0m \u001b[0;31m# Count the number of rows for each manufacturer\u001b[0m\u001b[0;34m\u001b[0m\u001b[0;34m\u001b[0m\u001b[0m\n",
            "\u001b[0;31mNameError\u001b[0m: name 'df' is not defined"
          ]
        }
      ]
    },
    {
      "cell_type": "code",
      "source": [
        "# Count missing values per column - NO MISSING VALUES\n",
        "print(\"Missing Value\")\n",
        "flight_data_mv_count = flights_df.isnull().sum()\n",
        "print(\"- flight_data:\")\n",
        "print(flight_data_mv_count[flight_data_mv_count > 0])\n",
        "\n",
        "weather_mv_count = weather_df.isnull().sum()\n",
        "print(\"- weather:\")\n",
        "print(weather_mv_count[weather_mv_count > 0])\n",
        "\n",
        "location_mv_count = location_df.isnull().sum()\n",
        "print(\"- location:\")\n",
        "print(location_mv_count[location_mv_count > 0])\n",
        "\n",
        "cancelled_diverted_data_mv_count = cancelled_diverted_df.isnull().sum()\n",
        "print(\"- cancelled_diverted:\")\n",
        "print(cancelled_diverted_data_mv_count[cancelled_diverted_data_mv_count > 0])\n",
        "\n",
        "maj_us_flight_jan2024_mv_count = maj_us_flight_jan2024_df.isnull().sum()\n",
        "print(\"- maj_us_flight_jan2024:\")\n",
        "print(maj_us_flight_jan2024_mv_count[maj_us_flight_jan2024_mv_count > 0])\n"
      ],
      "metadata": {
        "colab": {
          "base_uri": "https://localhost:8080/"
        },
        "collapsed": true,
        "id": "C1_pcZBzjGsw",
        "outputId": "277a7322-2d6f-4e4b-daea-c9731d104c22"
      },
      "execution_count": 7,
      "outputs": [
        {
          "output_type": "stream",
          "name": "stdout",
          "text": [
            "Missing Value\n",
            "- flight_data:\n",
            "Series([], dtype: int64)\n",
            "- weather:\n",
            "Series([], dtype: int64)\n",
            "- location:\n",
            "Series([], dtype: int64)\n",
            "- cancelled_diverted:\n",
            "Series([], dtype: int64)\n",
            "- maj_us_flight_jan2024:\n",
            "Series([], dtype: int64)\n"
          ]
        }
      ]
    },
    {
      "cell_type": "code",
      "source": [
        "# Example: Check for negative delays in the df with delays\n",
        "flights_data_neg_dep_delay = flights_df[flights_df['Dep_Delay'] < 0]\n",
        "num_flights_data_neg_dep_delay = flights_data_neg_dep_delay.shape[0]\n",
        "flights_data_arr_dep_delay = flights_df[flights_df['Arr_Delay'] < 0]\n",
        "num_flights_data_arr_dep_delay = flights_data_arr_dep_delay.shape[0]\n",
        "\n",
        "print(\"Negative Departure Delay Flights data:\", num_flights_data_neg_dep_delay)\n",
        "print(\"Negative Arrival Delay Flights data:\", num_flights_data_arr_dep_delay)\n",
        "\n",
        "maj_us_flight_jan2024_neg_dep_delay = maj_us_flight_jan2024_df[maj_us_flight_jan2024_df['Dep_Delay'] < 0]\n",
        "num_maj_us_flight_jan2024_neg_dep_delay = maj_us_flight_jan2024_neg_dep_delay.shape[0]\n",
        "maj_us_flight_jan2024_arr_dep_delay = maj_us_flight_jan2024_df[maj_us_flight_jan2024_df['Arr_Delay'] < 0]\n",
        "num_maj_us_flight_jan2024_arr_dep_delay = maj_us_flight_jan2024_arr_dep_delay.shape[0]\n",
        "\n",
        "print(\"Negative Departure Delay Major Flights Jan 2024 data:\", num_maj_us_flight_jan2024_neg_dep_delay)\n",
        "print(\"Negative Arrival Delay Major Flights Jan 2024 data:\", num_maj_us_flight_jan2024_arr_dep_delay)"
      ],
      "metadata": {
        "colab": {
          "base_uri": "https://localhost:8080/"
        },
        "id": "vSqS_ovQl9Ho",
        "outputId": "55c32d9d-cf53-40c4-8e2a-24a9977cb014"
      },
      "execution_count": 8,
      "outputs": [
        {
          "output_type": "stream",
          "name": "stdout",
          "text": [
            "Negative Departure Delay Flights data: 3873058\n",
            "Negative Arrival Delay Flights data: 4146121\n",
            "Negative Departure Delay Major Flights Jan 2024 data: 301552\n",
            "Negative Arrival Delay Major Flights Jan 2024 data: 315277\n"
          ]
        }
      ]
    }
  ]
}